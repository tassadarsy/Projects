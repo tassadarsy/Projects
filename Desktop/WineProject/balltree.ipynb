{
 "cells": [
  {
   "cell_type": "code",
   "execution_count": 3,
   "metadata": {},
   "outputs": [],
   "source": [
    "import numpy as np\n",
    "import pandas as pd\n",
    "import sklearn as sk\n",
    "import time"
   ]
  },
  {
   "cell_type": "code",
   "execution_count": null,
   "metadata": {},
   "outputs": [],
   "source": [
    "# data preprocessing"
   ]
  },
  {
   "cell_type": "code",
   "execution_count": null,
   "metadata": {},
   "outputs": [],
   "source": [
    "# read data part1 and part2\n",
    "data1 = pd.read_csv(\"/Users/Tass/Desktop/wb.csv\", header = None)\n",
    "data2 = pd.read_csv(\"/Users/Tass/Desktop/combine.csv\", header  = None)"
   ]
  },
  {
   "cell_type": "code",
   "execution_count": 99,
   "metadata": {},
   "outputs": [],
   "source": [
    "# transform to dataframe\n",
    "data1 = pd.DataFrame(data1)\n",
    "data2 = pd.DataFrame(data2)\n",
    "# data1[0:1] # row 0\n",
    "# data1[[0]] # column 0"
   ]
  },
  {
   "cell_type": "code",
   "execution_count": 100,
   "metadata": {},
   "outputs": [],
   "source": [
    "# Combine part1 and part2\n",
    "data = pd.concat((data1, data2), axis = 1, join = 'outer')"
   ]
  },
  {
   "cell_type": "code",
   "execution_count": 101,
   "metadata": {},
   "outputs": [
    {
     "data": {
      "text/plain": [
       "PCA(copy=True, iterated_power='auto', n_components=20, random_state=None,\n",
       "  svd_solver='auto', tol=0.0, whiten=False)"
      ]
     },
     "execution_count": 101,
     "metadata": {},
     "output_type": "execute_result"
    }
   ],
   "source": [
    "# PCA\n",
    "from sklearn.decomposition import PCA\n",
    "pca = PCA(n_components = 20)\n",
    "pca.fit(data)"
   ]
  },
  {
   "cell_type": "code",
   "execution_count": 102,
   "metadata": {},
   "outputs": [
    {
     "name": "stdout",
     "output_type": "stream",
     "text": [
      "[0.17893673 0.16316474 0.13775872 0.11454739 0.04115858 0.03065727\n",
      " 0.02834077 0.02528076 0.02477078 0.02430914 0.02164384 0.02102012\n",
      " 0.02032194 0.01848504 0.01738212 0.01713402 0.016388   0.01576014\n",
      " 0.01488626 0.01428113]\n",
      "[267.68928259 255.61973774 234.877156   214.17749329 128.38415917\n",
      " 110.80210253 106.53371238 100.61814786  99.59811424  98.6656532\n",
      "  93.09971806  91.74846404  90.21189145  86.03821507  83.43199481\n",
      "  82.83442206  81.01103867  79.44401943  77.21009678  75.62450936]\n"
     ]
    }
   ],
   "source": [
    "# PCA results\n",
    "print(pca.explained_variance_ratio_)  \n",
    "print(pca.singular_values_)  "
   ]
  },
  {
   "cell_type": "code",
   "execution_count": 103,
   "metadata": {},
   "outputs": [],
   "source": [
    "# Original data\n",
    "part1 = pd.read_csv(\"/Users/Tass/Downloads/first.csv\")\n",
    "part2 = pd.read_csv(\"/Users/Tass/Downloads/sec.csv\")"
   ]
  },
  {
   "cell_type": "code",
   "execution_count": 116,
   "metadata": {},
   "outputs": [],
   "source": [
    "# Get the price column\n",
    "price = pd.concat((part1[['price']], part2[['price']]), axis = 0, join = 'outer', ignore_index = True)"
   ]
  },
  {
   "cell_type": "code",
   "execution_count": 118,
   "metadata": {},
   "outputs": [],
   "source": [
    "# Combine others and price\n",
    "output = pd.concat((data, price), axis = 1, join = 'outer', ignore_index = True)"
   ]
  },
  {
   "cell_type": "code",
   "execution_count": 120,
   "metadata": {},
   "outputs": [],
   "source": [
    "# Write the CSV document\n",
    "output.to_csv(\"data.csv\", index = False , sep = ',')"
   ]
  },
  {
   "cell_type": "code",
   "execution_count": 126,
   "metadata": {},
   "outputs": [
    {
     "data": {
      "text/plain": [
       "(258145, 25)"
      ]
     },
     "execution_count": 126,
     "metadata": {},
     "output_type": "execute_result"
    }
   ],
   "source": [
    "# Check data shape\n",
    "data = output\n",
    "data.shape"
   ]
  },
  {
   "cell_type": "code",
   "execution_count": null,
   "metadata": {},
   "outputs": [],
   "source": [
    "#############################################################################"
   ]
  },
  {
   "cell_type": "code",
   "execution_count": 4,
   "metadata": {},
   "outputs": [],
   "source": [
    "# Read data\n",
    "data = pd.read_csv(\"/Users/Tass/Desktop/data.csv\", header  = None)\n",
    "data = data[1:]"
   ]
  },
  {
   "cell_type": "code",
   "execution_count": null,
   "metadata": {},
   "outputs": [],
   "source": [
    "# recommendation"
   ]
  },
  {
   "cell_type": "code",
   "execution_count": null,
   "metadata": {},
   "outputs": [],
   "source": [
    "# Construct balltree\n",
    "from sklearn.neighbors import BallTree\n",
    "\n",
    "start = time.clock()\n",
    "\n",
    "tree = BallTree(data, leaf_size = 4)\n",
    "dist, ind = tree.query(data[1:2], k = 65436) # Labels of the nearest 65436 rows\n",
    "print(ind)\n",
    "\n",
    "end = time.clock()\n",
    "\n",
    "print('Time used: %s seconds!'%(end - start))"
   ]
  },
  {
   "cell_type": "code",
   "execution_count": 190,
   "metadata": {},
   "outputs": [
    {
     "data": {
      "text/html": [
       "<div>\n",
       "<style>\n",
       "    .dataframe thead tr:only-child th {\n",
       "        text-align: right;\n",
       "    }\n",
       "\n",
       "    .dataframe thead th {\n",
       "        text-align: left;\n",
       "    }\n",
       "\n",
       "    .dataframe tbody tr th {\n",
       "        vertical-align: top;\n",
       "    }\n",
       "</style>\n",
       "<table border=\"1\" class=\"dataframe\">\n",
       "  <thead>\n",
       "    <tr style=\"text-align: right;\">\n",
       "      <th></th>\n",
       "      <th>0</th>\n",
       "      <th>1</th>\n",
       "      <th>2</th>\n",
       "      <th>3</th>\n",
       "      <th>4</th>\n",
       "      <th>5</th>\n",
       "      <th>6</th>\n",
       "      <th>7</th>\n",
       "      <th>8</th>\n",
       "      <th>9</th>\n",
       "      <th>...</th>\n",
       "      <th>15</th>\n",
       "      <th>16</th>\n",
       "      <th>17</th>\n",
       "      <th>18</th>\n",
       "      <th>19</th>\n",
       "      <th>20</th>\n",
       "      <th>21</th>\n",
       "      <th>22</th>\n",
       "      <th>23</th>\n",
       "      <th>24</th>\n",
       "    </tr>\n",
       "  </thead>\n",
       "  <tbody>\n",
       "    <tr>\n",
       "      <th>1</th>\n",
       "      <td>-0.120386</td>\n",
       "      <td>0.0</td>\n",
       "      <td>0.361158</td>\n",
       "      <td>0.240772</td>\n",
       "      <td>-0.240772</td>\n",
       "      <td>-0.601929</td>\n",
       "      <td>0.240772</td>\n",
       "      <td>0.0</td>\n",
       "      <td>-0.120386</td>\n",
       "      <td>0.0</td>\n",
       "      <td>...</td>\n",
       "      <td>0.120386</td>\n",
       "      <td>0.361158</td>\n",
       "      <td>0.240772</td>\n",
       "      <td>0.0</td>\n",
       "      <td>0.0</td>\n",
       "      <td>-0.371391</td>\n",
       "      <td>-0.557086</td>\n",
       "      <td>0.742781</td>\n",
       "      <td>0.0</td>\n",
       "      <td>110</td>\n",
       "    </tr>\n",
       "  </tbody>\n",
       "</table>\n",
       "<p>1 rows × 25 columns</p>\n",
       "</div>"
      ],
      "text/plain": [
       "         0    1         2         3         4         5         6    7   \\\n",
       "1 -0.120386  0.0  0.361158  0.240772 -0.240772 -0.601929  0.240772  0.0   \n",
       "\n",
       "         8    9  ...         15        16        17   18   19        20  \\\n",
       "1 -0.120386  0.0 ...   0.120386  0.361158  0.240772  0.0  0.0 -0.371391   \n",
       "\n",
       "         21        22   23   24  \n",
       "1 -0.557086  0.742781  0.0  110  \n",
       "\n",
       "[1 rows x 25 columns]"
      ]
     },
     "execution_count": 190,
     "metadata": {},
     "output_type": "execute_result"
    }
   ],
   "source": [
    "# The first wine\n",
    "data[1:2]"
   ]
  },
  {
   "cell_type": "code",
   "execution_count": 209,
   "metadata": {},
   "outputs": [
    {
     "data": {
      "text/plain": [
       "KNeighborsClassifier(algorithm='brute', leaf_size=30, metric='minkowski',\n",
       "           metric_params=None, n_jobs=1, n_neighbors=100000, p=2,\n",
       "           weights='uniform')"
      ]
     },
     "execution_count": 209,
     "metadata": {},
     "output_type": "execute_result"
    }
   ],
   "source": [
    "# Build tree\n",
    "from sklearn.neighbors import KNeighborsClassifier\n",
    "KNN = KNeighborsClassifier(n_neighbors=100000, algorithm='brute')\n",
    "KNN.fit(data[list(range(24))], np.ravel(data[[24]]))"
   ]
  },
  {
   "cell_type": "code",
   "execution_count": null,
   "metadata": {},
   "outputs": [],
   "source": [
    "# Show the nearest result\n",
    "item1 = data[list(range(24))][:1]\n",
    "print(KNN.predict(item1))\n",
    "print(KNN.predict_proba(item1))"
   ]
  },
  {
   "cell_type": "code",
   "execution_count": null,
   "metadata": {},
   "outputs": [],
   "source": [
    "# precision rate "
   ]
  },
  {
   "cell_type": "code",
   "execution_count": null,
   "metadata": {},
   "outputs": [],
   "source": [
    "from sklearn.neighbors import KNeighborsClassifier\n",
    "from sklearn.cross_validation import train_test_split"
   ]
  },
  {
   "cell_type": "code",
   "execution_count": 6,
   "metadata": {},
   "outputs": [],
   "source": [
    "# Split x and y, train and test\n",
    "x = data[list(range(24))]\n",
    "y = data[[24]]\n",
    "y_array = np.ravel(y)\n",
    "x_train, x_test, y_train, y_test = train_test_split(x, y, test_size = 0.2)"
   ]
  },
  {
   "cell_type": "code",
   "execution_count": null,
   "metadata": {},
   "outputs": [],
   "source": [
    "# Label y\n",
    "for i in range(len(y_array)):\n",
    "    if y_array[i] <= 50:\n",
    "        y_array[i] = 1\n",
    "    elif y_array[i] > 50 and y_array[i] <= 100:\n",
    "        y_array[i] = 2\n",
    "    elif y_array[i] > 100 and y_array[i] <= 150:\n",
    "        y_array[i] = 3\n",
    "    elif y_array[i] > 150 and y_array[i] <= 200:\n",
    "        y_array[i] = 4\n",
    "    elif y_array[i] > 200:\n",
    "        y_array[i] = 5"
   ]
  },
  {
   "cell_type": "code",
   "execution_count": null,
   "metadata": {},
   "outputs": [],
   "source": [
    "# Build tree\n",
    "classifier = neighbors.KNeighborsClassifier(algorithm = 'ball_tree')\n",
    "classifier.fit(x_train, y_train)"
   ]
  },
  {
   "cell_type": "code",
   "execution_count": null,
   "metadata": {},
   "outputs": [],
   "source": [
    "# Predict y\n",
    "y_pred = classifier.predict(x)\n",
    "print(np.mean(y_pred == y_array))"
   ]
  },
  {
   "cell_type": "code",
   "execution_count": null,
   "metadata": {},
   "outputs": [],
   "source": [
    "# Final result\n",
    "precision, recall, thresholds = precision_recall_curve(y_train, classifier.predict(x_train))"
   ]
  }
 ],
 "metadata": {
  "kernelspec": {
   "display_name": "Python 3",
   "language": "python",
   "name": "python3"
  },
  "language_info": {
   "codemirror_mode": {
    "name": "ipython",
    "version": 3
   },
   "file_extension": ".py",
   "mimetype": "text/x-python",
   "name": "python",
   "nbconvert_exporter": "python",
   "pygments_lexer": "ipython3",
   "version": "3.6.3"
  }
 },
 "nbformat": 4,
 "nbformat_minor": 2
}
