{
 "cells": [
  {
   "cell_type": "code",
   "execution_count": 1,
   "metadata": {},
   "outputs": [],
   "source": [
    "import numpy as np\n",
    "import pandas as pd\n",
    "import sklearn as sk\n",
    "import time"
   ]
  },
  {
   "cell_type": "code",
   "execution_count": 2,
   "metadata": {},
   "outputs": [
    {
     "name": "stderr",
     "output_type": "stream",
     "text": [
      "/Users/Tass/anaconda3/lib/python3.6/site-packages/sklearn/cross_validation.py:41: DeprecationWarning: This module was deprecated in version 0.18 in favor of the model_selection module into which all the refactored classes and functions are moved. Also note that the interface of the new CV iterators are different from that of this module. This module will be removed in 0.20.\n",
      "  \"This module will be removed in 0.20.\", DeprecationWarning)\n"
     ]
    }
   ],
   "source": [
    "from sklearn.neighbors import KNeighborsClassifier\n",
    "from sklearn.cross_validation import train_test_split"
   ]
  },
  {
   "cell_type": "code",
   "execution_count": 3,
   "metadata": {},
   "outputs": [],
   "source": [
    "# read data\n",
    "data = pd.read_csv(\"/Users/Tass/Desktop/data.csv\", header  = None)\n",
    "data = data[1:]"
   ]
  },
  {
   "cell_type": "code",
   "execution_count": 4,
   "metadata": {},
   "outputs": [],
   "source": [
    "# split x and y, train and test\n",
    "x = data[list(range(24))]\n",
    "y = data[[24]]\n",
    "x_array = np.asarray(x)\n",
    "y_array = np.ravel(y)\n",
    "x_train, x_test, y_train, y_test = train_test_split(x_array, y_array, test_size = 0.2)"
   ]
  },
  {
   "cell_type": "code",
   "execution_count": 5,
   "metadata": {},
   "outputs": [],
   "source": [
    "# Label y\n",
    "for i in range(len(y_array)):\n",
    "    if y_array[i] <= 50:\n",
    "        y_array[i] = 1\n",
    "    elif y_array[i] > 50 and y_array[i] <= 100:\n",
    "        y_array[i] = 2\n",
    "    elif y_array[i] > 100 and y_array[i] <= 150:\n",
    "        y_array[i] = 3\n",
    "    elif y_array[i] > 150 and y_array[i] <= 200:\n",
    "        y_array[i] = 4\n",
    "    elif y_array[i] > 200:\n",
    "        y_array[i] = 5"
   ]
  },
  {
   "cell_type": "code",
   "execution_count": 29,
   "metadata": {},
   "outputs": [
    {
     "name": "stdout",
     "output_type": "stream",
     "text": [
      "Time used: 11.30408 seconds!\n"
     ]
    }
   ],
   "source": [
    "# define classifier\n",
    "start = time.clock()\n",
    "\n",
    "classifier = KNeighborsClassifier(algorithm = 'ball_tree')\n",
    "classifier.fit(x_train, y_train)\n",
    "\n",
    "end = time.clock()\n",
    "\n",
    "print('Time used: %s seconds!'%(end - start))"
   ]
  },
  {
   "cell_type": "code",
   "execution_count": 7,
   "metadata": {},
   "outputs": [
    {
     "name": "stdout",
     "output_type": "stream",
     "text": [
      "0.8311414127718918\n",
      "Time used: 1112.2762069999999 seconds!\n"
     ]
    }
   ],
   "source": [
    "# test\n",
    "start = time.clock()\n",
    "\n",
    "x_array = np.asarray(x)[:len(x_array)]\n",
    "y_array = np.ravel(y)[:len(y_array)]\n",
    "x_train, x_test, y_train, y_test = train_test_split(x_array, y_array, test_size = 0.2)\n",
    "\n",
    "classifier = KNeighborsClassifier(algorithm = 'ball_tree')\n",
    "classifier.fit(x_train, y_train)\n",
    "\n",
    "y_pred = classifier.predict(x_test)\n",
    "print(np.mean(y_pred == y_test))\n",
    "\n",
    "end = time.clock()\n",
    "print('Time used: %s seconds!'%(end - start))"
   ]
  }
 ],
 "metadata": {
  "kernelspec": {
   "display_name": "Python 3",
   "language": "python",
   "name": "python3"
  },
  "language_info": {
   "codemirror_mode": {
    "name": "ipython",
    "version": 3
   },
   "file_extension": ".py",
   "mimetype": "text/x-python",
   "name": "python",
   "nbconvert_exporter": "python",
   "pygments_lexer": "ipython3",
   "version": "3.6.3"
  }
 },
 "nbformat": 4,
 "nbformat_minor": 2
}
